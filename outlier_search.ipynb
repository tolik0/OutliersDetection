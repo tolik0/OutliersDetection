{
 "cells": [
  {
   "cell_type": "code",
   "execution_count": 3,
   "metadata": {},
   "outputs": [],
   "source": [
    "import numpy as np"
   ]
  },
  {
   "cell_type": "code",
   "execution_count": 16,
   "metadata": {
    "pycharm": {
     "name": "#%%\n"
    }
   },
   "outputs": [],
   "source": [
    "def get_outliers(data, results_number, dimensionality, p, p1=0.5, p2=0.5, f=10):\n",
    "    \"\"\"\n",
    "    Find results_number outliers in data.\n",
    "\n",
    "    Args:\n",
    "        ----------\n",
    "        data (numpy.ndarray) : 2D array.\n",
    "        results_number (int) : Number of outlier points to return.\n",
    "        dimensionality (int) : Dimensionality of the projection which is used in order to determine the outliers.\n",
    "        p (int) : number of solutions to work with.\n",
    "        p1 (float) : probability of first type mutation.\n",
    "        p2 (float) : probability of second type mutation.\n",
    "        f (int) : number of splits for each dimension.\n",
    "\n",
    "    Returns:\n",
    "        ----------\n",
    "        np.ndarray: 2D array of results_number of outlier points.\n",
    "    \"\"\"    \n",
    "    records_num, features_num = data.shape\n",
    "    best_set = []\n",
    "    s = get_initial_state(data, dimensionality, p, f)\n",
    "    print(s)\n",
    "    return\n",
    "    \n",
    "    while not convergence(s):\n",
    "        s = selection(s)\n",
    "        s = cross_over(s)\n",
    "        s = mutation(s, p1, p2)\n",
    "        best_set = get_best(best_set, s, records_num)\n",
    "        \n",
    "    return get_solutions(best_set)\n",
    "        \n",
    "    \n",
    "def get_initial_state(data, dimensionality, p, f):\n",
    "    records_num, features_num = data.shape\n",
    "    s = np.full((p, features_num), fill_value=-1)\n",
    "    \n",
    "    for solution in s:\n",
    "        positions = np.random.choice(range(features_num), replace=False, size = dimensionality)\n",
    "        solution[positions] = np.random.randint(low = 0, high = f, size = dimensionality)\n",
    "    \n",
    "    return s\n",
    "\n",
    "def selection(s):\n",
    "    return\n",
    "\n",
    "def convergence(s):\n",
    "    return \n",
    "\n",
    "def cross_over(s):\n",
    "    return \n",
    "\n",
    "def mutation(s, p1, p2):\n",
    "    return \n",
    "\n",
    "def get_best(best_set, s, records_num):\n",
    "    return \n",
    "\n",
    "def get_solutions(best_set):\n",
    "    return\n",
    "\n",
    "def sparcity_coefficient(data, solution, dimensionality, f):\n",
    "    "
   ]
  },
  {
   "cell_type": "code",
   "execution_count": 17,
   "metadata": {},
   "outputs": [
    {
     "name": "stdout",
     "output_type": "stream",
     "text": [
      "[[-1 -1 -1 -1  3 -1  0 -1  9  1]\n",
      " [-1 -1 -1 -1  1  0 -1 -1  7  9]\n",
      " [-1 -1 -1  6  5  4 -1 -1 -1  6]\n",
      " [-1 -1  3 -1 -1  2 -1  9 -1  0]\n",
      " [-1  9 -1  4  6 -1 -1  0 -1 -1]]\n"
     ]
    }
   ],
   "source": [
    "data = np.random.randint(0, 10, (10, 10))\n",
    "data\n",
    "get_outliers(data, 3, 4, 5)"
   ]
  },
  {
   "cell_type": "code",
   "execution_count": null,
   "metadata": {},
   "outputs": [],
   "source": []
  }
 ],
 "metadata": {
  "kernelspec": {
   "display_name": "Python 3",
   "language": "python",
   "name": "python3"
  },
  "language_info": {
   "codemirror_mode": {
    "name": "ipython",
    "version": 3
   },
   "file_extension": ".py",
   "mimetype": "text/x-python",
   "name": "python",
   "nbconvert_exporter": "python",
   "pygments_lexer": "ipython3",
   "version": "3.6.7"
  },
  "pycharm": {
   "stem_cell": {
    "cell_type": "raw",
    "metadata": {
     "collapsed": false
    },
    "source": []
   }
  }
 },
 "nbformat": 4,
 "nbformat_minor": 2
}
