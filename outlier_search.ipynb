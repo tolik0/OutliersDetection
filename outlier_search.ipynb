{
  "cells": [
    {
      "cell_type": "code",
      "execution_count": 5,
      "metadata": {
        "pycharm": {
          "is_executing": false
        }
      },
      "outputs": [],
      "source": [
        "import numpy as np"
      ]
    },
    {
      "cell_type": "code",
      "execution_count": 6,
      "metadata": {
        "pycharm": {
          "name": "#%%\n",
          "is_executing": false
        }
      },
      "outputs": [
        {
          "traceback": [
            "\u001b[1;36m  File \u001b[1;32m\"\u003cipython-input-6-9a1279a67fc1\u003e\"\u001b[1;36m, line \u001b[1;32m63\u001b[0m\n\u001b[1;33m    \u001b[0m\n\u001b[1;37m    ^\u001b[0m\n\u001b[1;31mSyntaxError\u001b[0m\u001b[1;31m:\u001b[0m unexpected EOF while parsing\n"
          ],
          "ename": "SyntaxError",
          "evalue": "unexpected EOF while parsing (\u003cipython-input-6-9a1279a67fc1\u003e, line 63)",
          "output_type": "error"
        }
      ],
      "source": [
        "def get_outliers(data, results_number, dimensionality, p, p1\u003d0.5, p2\u003d0.5, f\u003d10):\n",
        "    \"\"\"\n",
        "    Find results_number outliers in data.\n",
        "\n",
        "    Args:\n",
        "        ----------\n",
        "        data (numpy.ndarray) : 2D array.\n",
        "        results_number (int) : Number of outlier points to return.\n",
        "        dimensionality (int) : Dimensionality of the projection which is used in order to determine the outliers.\n",
        "        p (int) : number of solutions to work with.\n",
        "        p1 (float) : probability of first type mutation.\n",
        "        p2 (float) : probability of second type mutation.\n",
        "        f (int) : number of splits for each dimension.\n",
        "\n",
        "    Returns:\n",
        "        ----------\n",
        "        np.ndarray: 2D array of results_number of outlier points.\n",
        "    \"\"\"    \n",
        "    records_num, features_num \u003d data.shape\n",
        "    best_set \u003d []\n",
        "    s \u003d get_initial_state(data, dimensionality, p, f)\n",
        "    print(s)\n",
        "    return\n",
        "    \n",
        "    while not convergence(s):\n",
        "        s \u003d selection(s)\n",
        "        s \u003d cross_over(s)\n",
        "        s \u003d mutation(s, p1, p2)\n",
        "        best_set \u003d get_best(best_set, s, records_num)\n",
        "        \n",
        "    return get_solutions(best_set)\n",
        "        \n",
        "    \n",
        "def get_initial_state(data, dimensionality, p, f):\n",
        "    records_num, features_num \u003d data.shape\n",
        "    s \u003d np.full((p, features_num), fill_value\u003d-1)\n",
        "    \n",
        "    for solution in s:\n",
        "        positions \u003d np.random.choice(range(features_num), replace\u003dFalse, size \u003d dimensionality)\n",
        "        solution[positions] \u003d np.random.randint(low \u003d 0, high \u003d f, size \u003d dimensionality)\n",
        "    \n",
        "    return s\n",
        "\n",
        "def selection(s):\n",
        "    return\n",
        "\n",
        "def convergence(s):\n",
        "    return \n",
        "\n",
        "def cross_over(s):\n",
        "    return \n",
        "\n",
        "def mutation(s, p1, p2):\n",
        "    return \n",
        "\n",
        "def get_best(best_set, s, records_num):\n",
        "    return \n",
        "\n",
        "def get_solutions(best_set):\n",
        "    return\n",
        "\n",
        "def sparcity_coefficient(data, solution, dimensionality, f):\n",
        "    "
      ]
    },
    {
      "cell_type": "code",
      "execution_count": 4,
      "metadata": {
        "pycharm": {
          "is_executing": false
        }
      },
      "outputs": [
        {
          "traceback": [
            "\u001b[1;31m---------------------------------------------------------------------------\u001b[0m",
            "\u001b[1;31mNameError\u001b[0m                                 Traceback (most recent call last)",
            "\u001b[1;32m\u003cipython-input-4-24577188e68d\u003e\u001b[0m in \u001b[0;36m\u003cmodule\u003e\u001b[1;34m\u001b[0m\n\u001b[0;32m      1\u001b[0m \u001b[0mdata\u001b[0m \u001b[1;33m\u003d\u001b[0m \u001b[0mnp\u001b[0m\u001b[1;33m.\u001b[0m\u001b[0mrandom\u001b[0m\u001b[1;33m.\u001b[0m\u001b[0mrandint\u001b[0m\u001b[1;33m(\u001b[0m\u001b[1;36m0\u001b[0m\u001b[1;33m,\u001b[0m \u001b[1;36m10\u001b[0m\u001b[1;33m,\u001b[0m \u001b[1;33m(\u001b[0m\u001b[1;36m10\u001b[0m\u001b[1;33m,\u001b[0m \u001b[1;36m10\u001b[0m\u001b[1;33m)\u001b[0m\u001b[1;33m)\u001b[0m\u001b[1;33m\u001b[0m\u001b[1;33m\u001b[0m\u001b[0m\n\u001b[0;32m      2\u001b[0m \u001b[0mdata\u001b[0m\u001b[1;33m\u001b[0m\u001b[1;33m\u001b[0m\u001b[0m\n\u001b[1;32m----\u003e 3\u001b[1;33m \u001b[0mget_outliers\u001b[0m\u001b[1;33m(\u001b[0m\u001b[0mdata\u001b[0m\u001b[1;33m,\u001b[0m \u001b[1;36m3\u001b[0m\u001b[1;33m,\u001b[0m \u001b[1;36m4\u001b[0m\u001b[1;33m,\u001b[0m \u001b[1;36m5\u001b[0m\u001b[1;33m)\u001b[0m\u001b[1;33m\u001b[0m\u001b[1;33m\u001b[0m\u001b[0m\n\u001b[0m",
            "\u001b[1;31mNameError\u001b[0m: name \u0027get_outliers\u0027 is not defined"
          ],
          "ename": "NameError",
          "evalue": "name \u0027get_outliers\u0027 is not defined",
          "output_type": "error"
        }
      ],
      "source": [
        "data \u003d np.random.randint(0, 10, (10, 10))\n",
        "data\n",
        "get_outliers(data, 3, 4, 5)"
      ]
    },
    {
      "cell_type": "code",
      "execution_count": null,
      "metadata": {
        "pycharm": {}
      },
      "outputs": [],
      "source": []
    }
  ],
  "metadata": {
    "kernelspec": {
      "display_name": "Python 3",
      "language": "python",
      "name": "python3"
    },
    "language_info": {
      "codemirror_mode": {
        "name": "ipython",
        "version": 3
      },
      "file_extension": ".py",
      "mimetype": "text/x-python",
      "name": "python",
      "nbconvert_exporter": "python",
      "pygments_lexer": "ipython3",
      "version": "3.6.7"
    },
    "pycharm": {
      "stem_cell": {
        "cell_type": "raw",
        "metadata": {
          "collapsed": false
        },
        "source": []
      }
    }
  },
  "nbformat": 4,
  "nbformat_minor": 2
}